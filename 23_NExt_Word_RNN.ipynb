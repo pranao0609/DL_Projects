{
  "nbformat": 4,
  "nbformat_minor": 0,
  "metadata": {
    "colab": {
      "provenance": [],
      "authorship_tag": "ABX9TyOSMqHSgrVYzwL6aBpMvGwx",
      "include_colab_link": true
    },
    "kernelspec": {
      "name": "python3",
      "display_name": "Python 3"
    },
    "language_info": {
      "name": "python"
    }
  },
  "cells": [
    {
      "cell_type": "markdown",
      "metadata": {
        "id": "view-in-github",
        "colab_type": "text"
      },
      "source": [
        "<a href=\"https://colab.research.google.com/github/pranao0609/DL_Projects/blob/main/23_NExt_Word_RNN.ipynb\" target=\"_parent\"><img src=\"https://colab.research.google.com/assets/colab-badge.svg\" alt=\"Open In Colab\"/></a>"
      ]
    },
    {
      "cell_type": "code",
      "execution_count": 8,
      "metadata": {
        "id": "3MyAVBPTRwJB"
      },
      "outputs": [],
      "source": [
        "import torch\n",
        "import torch.nn as nn\n",
        "import torch.optim as optim\n",
        "import numpy as np"
      ]
    },
    {
      "cell_type": "code",
      "source": [
        "text = \"hello how are you hello how have you been hello how is your day\""
      ],
      "metadata": {
        "id": "-T4HYKTjXXUV"
      },
      "execution_count": 9,
      "outputs": []
    },
    {
      "cell_type": "code",
      "source": [
        "words = list(set(text.split()))\n",
        "word2idx = {w: i for i, w in enumerate(words)}\n",
        "idx2word = {i: w for w, i in word2idx.items()}\n",
        "\n",
        "sequence_length = 3\n",
        "data = []\n",
        "for i in range(len(text.split()) - sequence_length):\n",
        "    seq = text.split()[i:i + sequence_length]\n",
        "    target = text.split()[i + sequence_length]\n",
        "    data.append(( [word2idx[w] for w in seq], word2idx[target]))"
      ],
      "metadata": {
        "id": "2txt_I5_XXW1"
      },
      "execution_count": 10,
      "outputs": []
    },
    {
      "cell_type": "code",
      "source": [
        "X = torch.tensor([x for x, _ in data], dtype=torch.long)\n",
        "Y = torch.tensor([y for _, y in data], dtype=torch.long)"
      ],
      "metadata": {
        "id": "kAVEG91BXXZN"
      },
      "execution_count": 11,
      "outputs": []
    },
    {
      "cell_type": "code",
      "source": [
        "class RNNModel(nn.Module):\n",
        "    def __init__(self, vocab_size, embed_size, hidden_size):\n",
        "        super(RNNModel, self).__init__()\n",
        "        self.embed = nn.Embedding(vocab_size, embed_size)\n",
        "        self.rnn = nn.RNN(embed_size, hidden_size, batch_first=True)\n",
        "        self.fc = nn.Linear(hidden_size, vocab_size)\n",
        "\n",
        "    def forward(self, x):\n",
        "        x = self.embed(x)\n",
        "        out, _ = self.rnn(x)\n",
        "        out = self.fc(out[:, -1, :])\n",
        "        return out\n",
        "\n",
        "model = RNNModel(len(words), 10, 20)\n",
        "criterion = nn.CrossEntropyLoss()\n",
        "optimizer = optim.Adam(model.parameters(), lr=0.01)"
      ],
      "metadata": {
        "id": "zVkI1z44XXcu"
      },
      "execution_count": 12,
      "outputs": []
    },
    {
      "cell_type": "code",
      "source": [
        "for epoch in range(200):\n",
        "    outputs = model(X)\n",
        "    loss = criterion(outputs, Y)\n",
        "    optimizer.zero_grad()\n",
        "    loss.backward()\n",
        "    optimizer.step()\n",
        "    if (epoch+1) % 50 == 0:\n",
        "        print(f'Epoch [{epoch+1}/200], Loss: {loss.item():.4f}')"
      ],
      "metadata": {
        "colab": {
          "base_uri": "https://localhost:8080/"
        },
        "id": "gYThKB2tXphe",
        "outputId": "e801abe4-74e1-4c37-9b61-03a0dc55eb8c"
      },
      "execution_count": 13,
      "outputs": [
        {
          "output_type": "stream",
          "name": "stdout",
          "text": [
            "Epoch [50/200], Loss: 0.0314\n",
            "Epoch [100/200], Loss: 0.0059\n",
            "Epoch [150/200], Loss: 0.0034\n",
            "Epoch [200/200], Loss: 0.0023\n"
          ]
        }
      ]
    },
    {
      "cell_type": "code",
      "source": [
        "with torch.no_grad():\n",
        "    test_input = torch.tensor([[word2idx[\"hello\"], word2idx[\"how\"], word2idx[\"is\"]]])\n",
        "    out = model(test_input)\n",
        "    pred = torch.argmax(out, dim=1).item()\n",
        "    print(\"Next word:\", idx2word[pred])"
      ],
      "metadata": {
        "colab": {
          "base_uri": "https://localhost:8080/"
        },
        "id": "11fCpXhaXpk_",
        "outputId": "8da93ca6-2367-4594-a70b-bfc40941aaa8"
      },
      "execution_count": 14,
      "outputs": [
        {
          "output_type": "stream",
          "name": "stdout",
          "text": [
            "Next word: your\n"
          ]
        }
      ]
    }
  ]
}