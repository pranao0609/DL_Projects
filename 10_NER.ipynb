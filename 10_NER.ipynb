{
  "nbformat": 4,
  "nbformat_minor": 0,
  "metadata": {
    "colab": {
      "provenance": [],
      "authorship_tag": "ABX9TyO8s4DQcu7SyzGa0exe5uB5",
      "include_colab_link": true
    },
    "kernelspec": {
      "name": "python3",
      "display_name": "Python 3"
    },
    "language_info": {
      "name": "python"
    }
  },
  "cells": [
    {
      "cell_type": "markdown",
      "metadata": {
        "id": "view-in-github",
        "colab_type": "text"
      },
      "source": [
        "<a href=\"https://colab.research.google.com/github/pranao0609/DL_Projects/blob/main/10_NER.ipynb\" target=\"_parent\"><img src=\"https://colab.research.google.com/assets/colab-badge.svg\" alt=\"Open In Colab\"/></a>"
      ]
    },
    {
      "cell_type": "code",
      "execution_count": 5,
      "metadata": {
        "id": "hSEStsfgqfPz"
      },
      "outputs": [],
      "source": [
        "import torch\n",
        "import torch.nn as nn\n",
        "from torch.utils.data import Dataset, DataLoader"
      ]
    },
    {
      "cell_type": "code",
      "source": [
        "sentences = [[\"John\", \"lives\", \"in\", \"New\", \"York\"],\n",
        "             [\"Apple\", \"is\", \"a\", \"company\"]]\n",
        "labels = [[\"B-PER\", \"O\", \"O\", \"B-LOC\", \"I-LOC\"],\n",
        "          [\"B-ORG\", \"O\", \"O\", \"O\"]]"
      ],
      "metadata": {
        "id": "NblnfyoCuV2U"
      },
      "execution_count": 6,
      "outputs": []
    },
    {
      "cell_type": "code",
      "source": [
        "word2idx = {\"<pad>\": 0}\n",
        "tag2idx = {\"O\": 0}\n",
        "for s in sentences:\n",
        "    for w in s:\n",
        "        word2idx.setdefault(w, len(word2idx))\n",
        "for seq in labels:\n",
        "    for t in seq:\n",
        "        tag2idx.setdefault(t, len(tag2idx))"
      ],
      "metadata": {
        "id": "ipAmOpzRq3fq"
      },
      "execution_count": 7,
      "outputs": []
    },
    {
      "cell_type": "code",
      "source": [
        "class NERDataset(Dataset):\n",
        "    def __init__(self, sentences, labels):\n",
        "        self.sentences = sentences\n",
        "        self.labels = labels\n",
        "\n",
        "    def __len__(self):\n",
        "        return len(self.sentences)\n",
        "\n",
        "    def __getitem__(self, idx):\n",
        "        x = [word2idx[w] for w in self.sentences[idx]]\n",
        "        y = [tag2idx[t] for t in self.labels[idx]]\n",
        "        return torch.tensor(x), torch.tensor(y)"
      ],
      "metadata": {
        "id": "ftfEpJYwqxFM"
      },
      "execution_count": 8,
      "outputs": []
    },
    {
      "cell_type": "code",
      "source": [
        "def collate_fn(batch):\n",
        "    xs, ys = zip(*batch)\n",
        "    x_padded = nn.utils.rnn.pad_sequence(xs, batch_first=True, padding_value=0)\n",
        "    y_padded = nn.utils.rnn.pad_sequence(ys, batch_first=True, padding_value=-1)\n",
        "    return x_padded, y_padded"
      ],
      "metadata": {
        "id": "BGx8GS1yuSvH"
      },
      "execution_count": 9,
      "outputs": []
    },
    {
      "cell_type": "code",
      "source": [
        "dataset = NERDataset(sentences, labels)\n",
        "loader = DataLoader(dataset, batch_size=2, collate_fn=collate_fn)\n",
        ""
      ],
      "metadata": {
        "id": "q9x5u-o1qxI8"
      },
      "execution_count": 10,
      "outputs": []
    },
    {
      "cell_type": "code",
      "source": [
        "class BiLSTMTagger(nn.Module):\n",
        "    def __init__(self, vocab_size, tagset_size):\n",
        "        super().__init__()\n",
        "        self.embedding = nn.Embedding(vocab_size, 64)\n",
        "        self.lstm = nn.LSTM(64, 128, batch_first=True, bidirectional=True)\n",
        "        self.fc = nn.Linear(128 * 2, tagset_size)\n",
        "\n",
        "    def forward(self, x):\n",
        "        x = self.embedding(x)\n",
        "        x, _ = self.lstm(x)\n",
        "        return self.fc(x)\n",
        "\n",
        "model = BiLSTMTagger(len(word2idx), len(tag2idx))\n",
        "criterion = nn.CrossEntropyLoss(ignore_index=-1)\n",
        "optimizer = torch.optim.Adam(model.parameters(), lr=0.01)"
      ],
      "metadata": {
        "id": "T2DqTeaQqxL2"
      },
      "execution_count": 11,
      "outputs": []
    },
    {
      "cell_type": "code",
      "source": [
        "for epoch in range(5):\n",
        "    for x, y in loader:\n",
        "        out = model(x)\n",
        "        out = out.view(-1, out.shape[-1])\n",
        "        y = y.view(-1)\n",
        "        loss = criterion(out, y)\n",
        "\n",
        "        optimizer.zero_grad()\n",
        "        loss.backward()\n",
        "        optimizer.step()\n",
        "    print(f\"Epoch {epoch+1}, Loss: {loss.item():.4f}\")"
      ],
      "metadata": {
        "colab": {
          "base_uri": "https://localhost:8080/"
        },
        "id": "dP7ooEbYqxPZ",
        "outputId": "755b37de-a62d-4b17-8195-f69304eded05"
      },
      "execution_count": 12,
      "outputs": [
        {
          "output_type": "stream",
          "name": "stdout",
          "text": [
            "Epoch 1, Loss: 1.5760\n",
            "Epoch 2, Loss: 0.9109\n",
            "Epoch 3, Loss: 0.4236\n",
            "Epoch 4, Loss: 0.1392\n",
            "Epoch 5, Loss: 0.0387\n"
          ]
        }
      ]
    },
    {
      "cell_type": "code",
      "source": [],
      "metadata": {
        "id": "cMY83fiIrwZN"
      },
      "execution_count": 12,
      "outputs": []
    }
  ]
}