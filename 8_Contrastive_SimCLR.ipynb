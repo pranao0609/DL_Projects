{
  "nbformat": 4,
  "nbformat_minor": 0,
  "metadata": {
    "colab": {
      "provenance": [],
      "gpuType": "T4",
      "authorship_tag": "ABX9TyP8mDGB8dzlLnGaTojh+Cjb",
      "include_colab_link": true
    },
    "kernelspec": {
      "name": "python3",
      "display_name": "Python 3"
    },
    "language_info": {
      "name": "python"
    },
    "accelerator": "GPU"
  },
  "cells": [
    {
      "cell_type": "markdown",
      "metadata": {
        "id": "view-in-github",
        "colab_type": "text"
      },
      "source": [
        "<a href=\"https://colab.research.google.com/github/pranao0609/DL_Projects/blob/main/8_Contrastive_SimCLR.ipynb\" target=\"_parent\"><img src=\"https://colab.research.google.com/assets/colab-badge.svg\" alt=\"Open In Colab\"/></a>"
      ]
    },
    {
      "cell_type": "code",
      "execution_count": 10,
      "metadata": {
        "id": "jBv2_ER1jCKd"
      },
      "outputs": [],
      "source": [
        "import torch\n",
        "import torch.nn as nn\n",
        "import torch.nn.functional as F\n",
        "from torchvision import datasets, transforms, models\n",
        "from torch.utils.data import DataLoader\n",
        "import random"
      ]
    },
    {
      "cell_type": "code",
      "source": [
        "simclr_transform = transforms.Compose([\n",
        "    transforms.RandomResizedCrop(32),\n",
        "    transforms.RandomHorizontalFlip(),\n",
        "    transforms.RandomApply([transforms.ColorJitter(0.4, 0.4, 0.4, 0.1)], p=0.8),\n",
        "    transforms.RandomGrayscale(p=0.2),\n",
        "    transforms.ToTensor(),\n",
        "    transforms.Normalize((0.5,), (0.5,))\n",
        "])"
      ],
      "metadata": {
        "id": "pIRrYFeejRab"
      },
      "execution_count": 2,
      "outputs": []
    },
    {
      "cell_type": "code",
      "source": [
        "class SimCLRDataset(torch.utils.data.Dataset):\n",
        "    def __init__(self, dataset):\n",
        "        self.dataset = dataset\n",
        "\n",
        "    def __getitem__(self, index):\n",
        "        img, _ = self.dataset[index]\n",
        "        return simclr_transform(img), simclr_transform(img)\n",
        "\n",
        "    def __len__(self):\n",
        "        return len(self.dataset)"
      ],
      "metadata": {
        "id": "h97f8IUhjRdA"
      },
      "execution_count": 3,
      "outputs": []
    },
    {
      "cell_type": "code",
      "source": [
        "base_dataset = datasets.CIFAR10(root='./data', train=True, download=True)\n",
        "train_dataset = SimCLRDataset(base_dataset)\n",
        "train_loader = DataLoader(train_dataset, batch_size=128, shuffle=True)"
      ],
      "metadata": {
        "colab": {
          "base_uri": "https://localhost:8080/"
        },
        "id": "ATP-xfOmjRgn",
        "outputId": "ff6043c9-dffa-4376-e266-646efe6f6fe3"
      },
      "execution_count": 4,
      "outputs": [
        {
          "output_type": "stream",
          "name": "stderr",
          "text": [
            "100%|██████████| 170M/170M [00:04<00:00, 41.9MB/s]\n"
          ]
        }
      ]
    },
    {
      "cell_type": "code",
      "source": [
        "class SimCLR(nn.Module):\n",
        "    def __init__(self):\n",
        "        super(SimCLR, self).__init__()\n",
        "        base = models.resnet18(pretrained=False)\n",
        "        self.encoder = nn.Sequential(*list(base.children())[:-1])\n",
        "        self.projector = nn.Sequential(\n",
        "            nn.Linear(512, 256),\n",
        "            nn.ReLU(),\n",
        "            nn.Linear(256, 128)\n",
        "        )\n",
        "\n",
        "    def forward(self, x):\n",
        "        x = self.encoder(x).squeeze()\n",
        "        x = self.projector(x)\n",
        "        return F.normalize(x, dim=1)"
      ],
      "metadata": {
        "id": "Ktm79Q1mjauh"
      },
      "execution_count": 5,
      "outputs": []
    },
    {
      "cell_type": "code",
      "source": [
        "def nt_xent_loss(z1, z2, temperature=0.5):\n",
        "    N = z1.size(0)\n",
        "    z = torch.cat([z1, z2], dim=0)\n",
        "    sim = F.cosine_similarity(z.unsqueeze(1), z.unsqueeze(0), dim=2)\n",
        "    sim = sim / temperature\n",
        "\n",
        "    labels = torch.arange(N).repeat(2)\n",
        "    labels = (labels.unsqueeze(0) == labels.unsqueeze(1)).float()\n",
        "    labels = labels.to(z.device)\n",
        "\n",
        "    mask = torch.eye(2*N, dtype=torch.bool).to(z.device)\n",
        "    sim.masked_fill_(mask, -9e15)\n",
        "\n",
        "    sim_exp = torch.exp(sim)\n",
        "    sim_sum = sim_exp.sum(dim=1, keepdim=True)\n",
        "    log_prob = sim - torch.log(sim_sum)\n",
        "    loss = - (labels * log_prob).sum(dim=1) / labels.sum(dim=1)\n",
        "    return loss.mean()"
      ],
      "metadata": {
        "id": "xb_DCi4mjjWc"
      },
      "execution_count": 6,
      "outputs": []
    },
    {
      "cell_type": "code",
      "source": [
        "model = SimCLR()\n",
        "optimizer = torch.optim.Adam(model.parameters(), lr=1e-3)"
      ],
      "metadata": {
        "colab": {
          "base_uri": "https://localhost:8080/"
        },
        "id": "FeKP2UwHjojP",
        "outputId": "9a3a3884-419f-4632-fa96-da60347b37c8"
      },
      "execution_count": 7,
      "outputs": [
        {
          "output_type": "stream",
          "name": "stderr",
          "text": [
            "/usr/local/lib/python3.11/dist-packages/torchvision/models/_utils.py:208: UserWarning: The parameter 'pretrained' is deprecated since 0.13 and may be removed in the future, please use 'weights' instead.\n",
            "  warnings.warn(\n",
            "/usr/local/lib/python3.11/dist-packages/torchvision/models/_utils.py:223: UserWarning: Arguments other than a weight enum or `None` for 'weights' are deprecated since 0.13 and may be removed in the future. The current behavior is equivalent to passing `weights=None`.\n",
            "  warnings.warn(msg)\n"
          ]
        }
      ]
    },
    {
      "cell_type": "code",
      "source": [
        "for epoch in range(1):\n",
        "    for x1, x2 in train_loader:\n",
        "        z1 = model(x1)\n",
        "        z2 = model(x2)\n",
        "        loss = nt_xent_loss(z1, z2)\n",
        "\n",
        "        optimizer.zero_grad()\n",
        "        loss.backward()\n",
        "        optimizer.step()\n",
        "\n",
        "    print(f\"Epoch {epoch+1}, Contrastive Loss: {loss.item():.4f}\")"
      ],
      "metadata": {
        "id": "c9OTYaisjq3s",
        "colab": {
          "base_uri": "https://localhost:8080/"
        },
        "outputId": "693b0260-1a0e-4c38-b639-76d76ad97044"
      },
      "execution_count": 9,
      "outputs": [
        {
          "output_type": "stream",
          "name": "stdout",
          "text": [
            "Epoch 1, Contrastive Loss: 4499999907905536.0000\n"
          ]
        }
      ]
    }
  ]
}