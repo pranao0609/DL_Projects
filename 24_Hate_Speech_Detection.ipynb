{
  "nbformat": 4,
  "nbformat_minor": 0,
  "metadata": {
    "colab": {
      "provenance": [],
      "authorship_tag": "ABX9TyNvrJ5YXdQuIt7SfGUKM949",
      "include_colab_link": true
    },
    "kernelspec": {
      "name": "python3",
      "display_name": "Python 3"
    },
    "language_info": {
      "name": "python"
    }
  },
  "cells": [
    {
      "cell_type": "markdown",
      "metadata": {
        "id": "view-in-github",
        "colab_type": "text"
      },
      "source": [
        "<a href=\"https://colab.research.google.com/github/pranao0609/DL_Projects/blob/main/24_Hate_Speech_Detection.ipynb\" target=\"_parent\"><img src=\"https://colab.research.google.com/assets/colab-badge.svg\" alt=\"Open In Colab\"/></a>"
      ]
    },
    {
      "cell_type": "code",
      "execution_count": 20,
      "metadata": {
        "id": "3MyAVBPTRwJB"
      },
      "outputs": [],
      "source": [
        "import torch\n",
        "import torch.nn as nn\n",
        "import torch.optim as optim\n",
        "import pandas as pd\n",
        "from sklearn.model_selection import train_test_split\n",
        "from sklearn.feature_extraction.text import CountVectorizer"
      ]
    },
    {
      "cell_type": "code",
      "source": [
        "url = \"https://raw.githubusercontent.com/dD2405/Twitter_Sentiment_Analysis/master/train.csv\"\n",
        "df = pd.read_csv(url)[['label', 'tweet']]\n",
        "df.columns = ['label', 'text']"
      ],
      "metadata": {
        "id": "-T4HYKTjXXUV"
      },
      "execution_count": 21,
      "outputs": []
    },
    {
      "cell_type": "code",
      "source": [
        "# ✅ Binary classification (hate = 1, non-hate = 0)\n",
        "X_train, X_test, y_train, y_test = train_test_split(df['text'], df['label'], test_size=0.2)\n",
        "vectorizer = CountVectorizer(max_features=3000)\n",
        "X_train_vec = vectorizer.fit_transform(X_train).toarray()\n",
        "X_test_vec = vectorizer.transform(X_test).toarray()\n",
        "\n",
        "# ✅ Convert to torch tensors\n",
        "X_train_tensor = torch.tensor(X_train_vec, dtype=torch.float32)\n",
        "X_test_tensor = torch.tensor(X_test_vec, dtype=torch.float32)\n",
        "y_train_tensor = torch.tensor(y_train.values, dtype=torch.long)\n",
        "y_test_tensor = torch.tensor(y_test.values, dtype=torch.long)\n"
      ],
      "metadata": {
        "id": "2txt_I5_XXW1"
      },
      "execution_count": 23,
      "outputs": []
    },
    {
      "cell_type": "code",
      "source": [
        "class HateSpeechModel(nn.Module):\n",
        "    def __init__(self, input_dim):\n",
        "        super().__init__()\n",
        "        self.fc = nn.Sequential(\n",
        "            nn.Linear(input_dim, 64),\n",
        "            nn.ReLU(),\n",
        "            nn.Linear(64, 3)\n",
        "        )\n",
        "\n",
        "    def forward(self, x):\n",
        "        return self.fc(x)\n",
        "\n",
        "model = HateSpeechModel(X_train_tensor.shape[1])\n",
        "loss_fn = nn.CrossEntropyLoss()\n",
        "optimizer = optim.Adam(model.parameters(), lr=0.001)"
      ],
      "metadata": {
        "id": "kAVEG91BXXZN"
      },
      "execution_count": 24,
      "outputs": []
    },
    {
      "cell_type": "code",
      "source": [
        "for epoch in range(4):\n",
        "    outputs = model(X_train_tensor)\n",
        "    loss = loss_fn(outputs, y_train_tensor)\n",
        "    optimizer.zero_grad()\n",
        "    loss.backward()\n",
        "    optimizer.step()\n",
        "    print(f\"Epoch {epoch+1}, Loss: {loss.item():.4f}\")"
      ],
      "metadata": {
        "colab": {
          "base_uri": "https://localhost:8080/"
        },
        "id": "zVkI1z44XXcu",
        "outputId": "38e29483-2fbd-4d9c-f52b-748f4f61b1d0"
      },
      "execution_count": 25,
      "outputs": [
        {
          "output_type": "stream",
          "name": "stdout",
          "text": [
            "Epoch 1, Loss: 1.1246\n",
            "Epoch 2, Loss: 1.1077\n",
            "Epoch 3, Loss: 1.0910\n",
            "Epoch 4, Loss: 1.0740\n"
          ]
        }
      ]
    },
    {
      "cell_type": "code",
      "source": [
        "model.eval()\n",
        "with torch.no_grad():\n",
        "    preds = model(X_test_tensor)\n",
        "    predicted = torch.argmax(preds, 1)\n",
        "    acc = (predicted == y_test_tensor).float().mean()\n",
        "    print(f\"Test Accuracy: {acc:.4f}\")"
      ],
      "metadata": {
        "colab": {
          "base_uri": "https://localhost:8080/"
        },
        "id": "gYThKB2tXphe",
        "outputId": "8baf6c95-7154-45bb-b27e-99f5325076d6"
      },
      "execution_count": 26,
      "outputs": [
        {
          "output_type": "stream",
          "name": "stdout",
          "text": [
            "Test Accuracy: 0.4098\n"
          ]
        }
      ]
    }
  ]
}