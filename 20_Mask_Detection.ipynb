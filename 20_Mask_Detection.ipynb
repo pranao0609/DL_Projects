{
  "nbformat": 4,
  "nbformat_minor": 0,
  "metadata": {
    "colab": {
      "provenance": [],
      "authorship_tag": "ABX9TyPKcHSK1GFMw9f5GcnP+5/b",
      "include_colab_link": true
    },
    "kernelspec": {
      "name": "python3",
      "display_name": "Python 3"
    },
    "language_info": {
      "name": "python"
    }
  },
  "cells": [
    {
      "cell_type": "markdown",
      "metadata": {
        "id": "view-in-github",
        "colab_type": "text"
      },
      "source": [
        "<a href=\"https://colab.research.google.com/github/pranao0609/DL_Projects/blob/main/20_Mask_Detection.ipynb\" target=\"_parent\"><img src=\"https://colab.research.google.com/assets/colab-badge.svg\" alt=\"Open In Colab\"/></a>"
      ]
    },
    {
      "cell_type": "code",
      "execution_count": 14,
      "metadata": {
        "id": "53QA3ayjNMFS"
      },
      "outputs": [],
      "source": [
        "\n",
        "import cv2\n",
        "import torch\n",
        "import torch.nn as nn\n",
        "import torchvision.transforms as T\n",
        "from PIL import Image\n",
        "import mediapipe as mp"
      ]
    },
    {
      "cell_type": "code",
      "source": [
        "import numpy as np"
      ],
      "metadata": {
        "id": "U2-iR_e6P4o-"
      },
      "execution_count": 15,
      "outputs": []
    },
    {
      "cell_type": "code",
      "source": [
        "mp_hands = mp.solutions.hands\n",
        "mp_drawing = mp.solutions.drawing_utils\n",
        "hands = mp_hands.Hands(static_image_mode=False, max_num_hands=1)\n",
        ""
      ],
      "metadata": {
        "id": "xwLpwoeqNtWl"
      },
      "execution_count": 16,
      "outputs": []
    },
    {
      "cell_type": "code",
      "source": [
        "def classify_gesture(landmarks):\n",
        "    thumb_tip = landmarks[4]\n",
        "    index_tip = landmarks[8]\n",
        "    middle_tip = landmarks[12]\n",
        "    ring_tip = landmarks[16]\n",
        "    pinky_tip = landmarks[20]\n",
        "    wrist = landmarks[0]"
      ],
      "metadata": {
        "id": "PqK2B2amNtZ-"
      },
      "execution_count": 17,
      "outputs": []
    },
    {
      "cell_type": "code",
      "source": [
        "import numpy as np\n",
        "\n",
        "def classify_gesture(landmarks):\n",
        "    # Extract key fingertip and wrist coordinates\n",
        "    thumb_tip = landmarks[4]\n",
        "    index_tip = landmarks[8]\n",
        "    middle_tip = landmarks[12]\n",
        "    ring_tip = landmarks[16]\n",
        "    pinky_tip = landmarks[20]\n",
        "    wrist = landmarks[0]\n",
        "\n",
        "    # Convert to numpy array for distance calculation\n",
        "    tips = np.array([thumb_tip, index_tip, middle_tip, ring_tip, pinky_tip])\n",
        "    wrist = np.array(wrist)\n",
        "\n",
        "    # Calculate distances from each tip to the wrist\n",
        "    distances = np.linalg.norm(tips - wrist, axis=1)\n",
        "\n",
        "    # Gesture classification based on distances\n",
        "    if all(dist < 0.1 for dist in distances):\n",
        "        return \"Fist\"\n",
        "    elif distances[0] > 0.2 and all(dist < 0.15 for dist in distances[1:]):\n",
        "        return \"Thumbs Up\"\n",
        "    elif all(dist > 0.2 for dist in distances):\n",
        "        return \"Open Palm\"\n",
        "    else:\n",
        "        return \"Unknown\"\n"
      ],
      "metadata": {
        "id": "X00ipy1eNth6"
      },
      "execution_count": 19,
      "outputs": []
    },
    {
      "cell_type": "code",
      "source": [
        "cap = cv2.VideoCapture(0)\n",
        "print(\"🖐️ Gesture recognition running... Press 'q' to quit.\")\n",
        "\n",
        "while True:\n",
        "    ret, frame = cap.read()\n",
        "    if not ret:\n",
        "        break\n",
        "\n",
        "    # Convert image to RGB and process\n",
        "    rgb = cv2.cvtColor(frame, cv2.COLOR_BGR2RGB)\n",
        "    results = hands.process(rgb)\n",
        "\n",
        "    if results.multi_hand_landmarks:\n",
        "        for hand_landmarks in results.multi_hand_landmarks:\n",
        "            # Draw hand landmarks\n",
        "            mp_drawing.draw_landmarks(frame, hand_landmarks, mp_hands.HAND_CONNECTIONS)\n",
        "\n",
        "            # Extract normalized landmark positions\n",
        "            landmarks = np.array([[lm.x, lm.y, lm.z] for lm in hand_landmarks.landmark])\n",
        "            gesture = classify_gesture(landmarks)\n",
        "\n",
        "            # Display gesture label\n",
        "            cv2.putText(frame, gesture, (10, 40), cv2.FONT_HERSHEY_SIMPLEX, 1.2, (0, 255, 0), 2)\n",
        "\n",
        "    cv2.imshow(\"Hand Gesture Recognition\", frame)\n",
        "    if cv2.waitKey(1) & 0xFF == ord(\"q\"):\n",
        "        break\n",
        "\n",
        "cap.release()"
      ],
      "metadata": {
        "colab": {
          "base_uri": "https://localhost:8080/"
        },
        "id": "ZmGgBAdWOSHF",
        "outputId": "25d8019c-3dfd-4e42-f116-941f552e75bf"
      },
      "execution_count": 21,
      "outputs": [
        {
          "output_type": "stream",
          "name": "stdout",
          "text": [
            "🖐️ Gesture recognition running... Press 'q' to quit.\n"
          ]
        }
      ]
    }
  ]
}