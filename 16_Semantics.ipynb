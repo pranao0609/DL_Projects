{
  "nbformat": 4,
  "nbformat_minor": 0,
  "metadata": {
    "colab": {
      "provenance": [],
      "authorship_tag": "ABX9TyOaAaTa4uHMJEaqcyqo/+hY",
      "include_colab_link": true
    },
    "kernelspec": {
      "name": "python3",
      "display_name": "Python 3"
    },
    "language_info": {
      "name": "python"
    }
  },
  "cells": [
    {
      "cell_type": "markdown",
      "metadata": {
        "id": "view-in-github",
        "colab_type": "text"
      },
      "source": [
        "<a href=\"https://colab.research.google.com/github/pranao0609/DL_Projects/blob/main/16_Semantics.ipynb\" target=\"_parent\"><img src=\"https://colab.research.google.com/assets/colab-badge.svg\" alt=\"Open In Colab\"/></a>"
      ]
    },
    {
      "cell_type": "code",
      "execution_count": 1,
      "metadata": {
        "id": "gcLR6PyHDuqq"
      },
      "outputs": [],
      "source": [
        "from sentence_transformers import SentenceTransformer, util"
      ]
    },
    {
      "cell_type": "code",
      "source": [
        "model = SentenceTransformer('all-MiniLM-L6-v2')\n",
        "\n",
        "corpus = [\n",
        "    \"Machine learning is a subset of artificial intelligence.\",\n",
        "    \"PyTorch is an open-source deep learning framework.\",\n",
        "    \"Transformers have revolutionized NLP.\",\n",
        "    \"Cats are wonderful companions.\",\n",
        "    \"The Eiffel Tower is located in Paris.\"\n",
        "]"
      ],
      "metadata": {
        "id": "C0fzYnNyEArI"
      },
      "execution_count": null,
      "outputs": []
    }
  ]
}