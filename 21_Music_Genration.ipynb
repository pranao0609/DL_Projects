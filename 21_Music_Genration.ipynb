{
  "nbformat": 4,
  "nbformat_minor": 0,
  "metadata": {
    "colab": {
      "provenance": [],
      "gpuType": "T4",
      "authorship_tag": "ABX9TyOzQKtIsNrNWLyyfpqBlUhA",
      "include_colab_link": true
    },
    "kernelspec": {
      "name": "python3",
      "display_name": "Python 3"
    },
    "language_info": {
      "name": "python"
    },
    "accelerator": "GPU"
  },
  "cells": [
    {
      "cell_type": "markdown",
      "metadata": {
        "id": "view-in-github",
        "colab_type": "text"
      },
      "source": [
        "<a href=\"https://colab.research.google.com/github/pranao0609/DL_Projects/blob/main/21_Music_Genration.ipynb\" target=\"_parent\"><img src=\"https://colab.research.google.com/assets/colab-badge.svg\" alt=\"Open In Colab\"/></a>"
      ]
    },
    {
      "cell_type": "code",
      "execution_count": 10,
      "metadata": {
        "id": "8iJXlnTnRC6I"
      },
      "outputs": [],
      "source": [
        "import torch\n",
        "import torch.nn as nn\n",
        "from torch.utils.data import Dataset, DataLoader\n",
        "import numpy as np\n",
        "import random"
      ]
    },
    {
      "cell_type": "code",
      "source": [
        "note_vocab = list(range(60, 73))  # C4 to B4\n",
        "note2idx = {note: idx for idx, note in enumerate(note_vocab)}\n",
        "idx2note = {idx: note for note, idx in note2idx.items()}"
      ],
      "metadata": {
        "id": "KoRISbVLRFZo"
      },
      "execution_count": 11,
      "outputs": []
    },
    {
      "cell_type": "code",
      "source": [
        "class NoteDataset(Dataset):\n",
        "    def __init__(self, num_sequences=1000, seq_len=20):\n",
        "        self.data = []\n",
        "        for _ in range(num_sequences):\n",
        "            sequence = random.choices(note_vocab, k=seq_len + 1)\n",
        "            x = [note2idx[n] for n in sequence[:-1]]\n",
        "            y = [note2idx[n] for n in sequence[1:]]\n",
        "            self.data.append((torch.tensor(x), torch.tensor(y)))\n",
        "\n",
        "    def __len__(self):\n",
        "        return len(self.data)\n",
        "\n",
        "    def __getitem__(self, idx):\n",
        "        return self.data[idx]"
      ],
      "metadata": {
        "id": "fCw26VR8RF4o"
      },
      "execution_count": 12,
      "outputs": []
    },
    {
      "cell_type": "code",
      "source": [
        "class MusicRNN(nn.Module):\n",
        "    def __init__(self, vocab_size, emb_size=32, hidden_size=64):\n",
        "        super().__init__()\n",
        "        self.embedding = nn.Embedding(vocab_size, emb_size)\n",
        "        self.rnn = nn.RNN(emb_size, hidden_size, batch_first=True)\n",
        "        self.fc = nn.Linear(hidden_size, vocab_size)\n",
        "\n",
        "    def forward(self, x):\n",
        "        x = self.embedding(x)\n",
        "        out, _ = self.rnn(x)\n",
        "        return self.fc(out)"
      ],
      "metadata": {
        "id": "Q-NPxl61SdRD"
      },
      "execution_count": 13,
      "outputs": []
    },
    {
      "cell_type": "code",
      "source": [
        "dataset = NoteDataset()\n",
        "loader = DataLoader(dataset, batch_size=32, shuffle=True)\n",
        "model = MusicRNN(vocab_size=len(note_vocab))\n",
        "criterion = nn.CrossEntropyLoss()\n",
        "optimizer = torch.optim.Adam(model.parameters(), lr=0.01)"
      ],
      "metadata": {
        "id": "sEWz-mh6RF8B"
      },
      "execution_count": 14,
      "outputs": []
    },
    {
      "cell_type": "code",
      "source": [
        "for epoch in range(5):\n",
        "    for x, y in loader:\n",
        "        outputs = model(x)\n",
        "        loss = criterion(outputs.view(-1, len(note_vocab)), y.view(-1))\n",
        "\n",
        "        optimizer.zero_grad()\n",
        "        loss.backward()\n",
        "        optimizer.step()\n",
        "\n",
        "    print(f\"Epoch {epoch+1}, Loss: {loss.item():.4f}\")"
      ],
      "metadata": {
        "colab": {
          "base_uri": "https://localhost:8080/"
        },
        "id": "CUsFfl23ROOM",
        "outputId": "dae5c6bd-926e-46b1-ca13-fd3600afa15e"
      },
      "execution_count": 15,
      "outputs": [
        {
          "output_type": "stream",
          "name": "stdout",
          "text": [
            "Epoch 1, Loss: 2.5843\n",
            "Epoch 2, Loss: 2.5838\n",
            "Epoch 3, Loss: 2.5734\n",
            "Epoch 4, Loss: 2.5906\n",
            "Epoch 5, Loss: 2.5794\n"
          ]
        }
      ]
    },
    {
      "cell_type": "code",
      "source": [
        "def generate_sequence(model, start_note, length=30):\n",
        "    model.eval()\n",
        "    notes = [note2idx[start_note]]\n",
        "    input_seq = torch.tensor(notes).unsqueeze(0)\n",
        "    for _ in range(length):\n",
        "        output = model(input_seq)\n",
        "        next_note = torch.argmax(output[0, -1]).item()\n",
        "        notes.append(next_note)\n",
        "        input_seq = torch.tensor(notes).unsqueeze(0)\n",
        "    return [idx2note[i] for i in notes]"
      ],
      "metadata": {
        "id": "g3QhwGIiRORy"
      },
      "execution_count": 16,
      "outputs": []
    },
    {
      "cell_type": "code",
      "source": [
        "start_note = 60  # C4\n",
        "generated_notes = generate_sequence(model, start_note)\n",
        "print(\"🎼 Generated Note Sequence:\", generated_notes)"
      ],
      "metadata": {
        "colab": {
          "base_uri": "https://localhost:8080/"
        },
        "id": "WoBjIBQTRSHa",
        "outputId": "051435d0-9225-4350-be21-7b70752a75f8"
      },
      "execution_count": 17,
      "outputs": [
        {
          "output_type": "stream",
          "name": "stdout",
          "text": [
            "🎼 Generated Note Sequence: [60, 64, 62, 61, 71, 61, 70, 68, 71, 67, 66, 71, 71, 68, 68, 67, 67, 67, 65, 71, 68, 68, 68, 67, 66, 68, 71, 60, 64, 62, 65]\n"
          ]
        }
      ]
    },
    {
      "cell_type": "code",
      "source": [],
      "metadata": {
        "id": "uMFwtAIHRSK6"
      },
      "execution_count": null,
      "outputs": []
    }
  ]
}