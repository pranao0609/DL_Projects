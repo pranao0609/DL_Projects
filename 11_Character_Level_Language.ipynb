{
  "nbformat": 4,
  "nbformat_minor": 0,
  "metadata": {
    "colab": {
      "provenance": [],
      "authorship_tag": "ABX9TyMEhRiY8USTc0p5LayM5DDV",
      "include_colab_link": true
    },
    "kernelspec": {
      "name": "python3",
      "display_name": "Python 3"
    },
    "language_info": {
      "name": "python"
    }
  },
  "cells": [
    {
      "cell_type": "markdown",
      "metadata": {
        "id": "view-in-github",
        "colab_type": "text"
      },
      "source": [
        "<a href=\"https://colab.research.google.com/github/pranao0609/DL_Projects/blob/main/11_Character_Level_Language.ipynb\" target=\"_parent\"><img src=\"https://colab.research.google.com/assets/colab-badge.svg\" alt=\"Open In Colab\"/></a>"
      ]
    },
    {
      "cell_type": "code",
      "execution_count": 12,
      "metadata": {
        "id": "1nVofk89wEWF"
      },
      "outputs": [],
      "source": [
        "import torch\n",
        "import torch.nn as nn\n",
        "from torch.utils.data import Dataset, DataLoader"
      ]
    },
    {
      "cell_type": "code",
      "source": [
        "text = \"hello world this is a simple character level language model\""
      ],
      "metadata": {
        "id": "Moe1pJaIws0c"
      },
      "execution_count": 13,
      "outputs": []
    },
    {
      "cell_type": "code",
      "source": [
        "chars = sorted(list(set(text)))\n",
        "char2idx = {ch: i for i, ch in enumerate(chars)}\n",
        "idx2char = {i: ch for ch, i in char2idx.items()}"
      ],
      "metadata": {
        "id": "jOYHdGPqws3M"
      },
      "execution_count": 14,
      "outputs": []
    },
    {
      "cell_type": "code",
      "source": [
        "sequence = [char2idx[c] for c in text]"
      ],
      "metadata": {
        "id": "BNNfPL_vws53"
      },
      "execution_count": 15,
      "outputs": []
    },
    {
      "cell_type": "code",
      "source": [
        "seq_len = 10\n",
        "batch_size = 4"
      ],
      "metadata": {
        "id": "EF6ZLAR9ws8v"
      },
      "execution_count": 16,
      "outputs": []
    },
    {
      "cell_type": "code",
      "source": [
        "class CharDataset(Dataset):\n",
        "    def __init__(self, sequence, seq_len):\n",
        "        self.data = []\n",
        "        for i in range(len(sequence) - seq_len):\n",
        "            self.data.append((sequence[i:i+seq_len], sequence[i+seq_len]))\n",
        "\n",
        "    def __len__(self):\n",
        "        return len(self.data)\n",
        "\n",
        "    def __getitem__(self, idx):\n",
        "        x, y = self.data[idx]\n",
        "        return torch.tensor(x), torch.tensor(y)\n",
        "\n",
        "dataset = CharDataset(sequence, seq_len)\n",
        "loader = DataLoader(dataset, batch_size=batch_size, shuffle=True)"
      ],
      "metadata": {
        "id": "y7C7dFYCwtAI"
      },
      "execution_count": 17,
      "outputs": []
    },
    {
      "cell_type": "code",
      "source": [
        "class CharRNN(nn.Module):\n",
        "    def __init__(self, vocab_size, hidden_size=64):\n",
        "        super().__init__()\n",
        "        self.embed = nn.Embedding(vocab_size, hidden_size)\n",
        "        self.rnn = nn.RNN(hidden_size, hidden_size, batch_first=True)\n",
        "        self.fc = nn.Linear(hidden_size, vocab_size)\n",
        "\n",
        "    def forward(self, x, h=None):\n",
        "        x = self.embed(x)\n",
        "        out, h = self.rnn(x, h)\n",
        "        out = self.fc(out[:, -1, :])\n",
        "        return out, h\n",
        "\n",
        "model = CharRNN(len(chars))\n",
        "optimizer = torch.optim.Adam(model.parameters(), lr=0.01)\n",
        "criterion = nn.CrossEntropyLoss()"
      ],
      "metadata": {
        "id": "CQvQOg5Uw8eg"
      },
      "execution_count": 18,
      "outputs": []
    },
    {
      "cell_type": "code",
      "source": [
        "for epoch in range(9):\n",
        "    for x, y in loader:\n",
        "        out, _ = model(x)\n",
        "        loss = criterion(out, y)\n",
        "\n",
        "        optimizer.zero_grad()\n",
        "        loss.backward()\n",
        "        optimizer.step()\n",
        "\n",
        "    print(f\"Epoch {epoch+1}, Loss: {loss.item():.4f}\")"
      ],
      "metadata": {
        "colab": {
          "base_uri": "https://localhost:8080/"
        },
        "id": "pBZpJRZ6w_yA",
        "outputId": "cc53ca02-bc2b-46d3-ca60-9222ebc6e429"
      },
      "execution_count": 19,
      "outputs": [
        {
          "output_type": "stream",
          "name": "stdout",
          "text": [
            "Epoch 1, Loss: 2.8122\n",
            "Epoch 2, Loss: 1.5425\n",
            "Epoch 3, Loss: 0.7096\n",
            "Epoch 4, Loss: 0.1300\n",
            "Epoch 5, Loss: 0.1671\n",
            "Epoch 6, Loss: 0.0877\n",
            "Epoch 7, Loss: 0.0721\n",
            "Epoch 8, Loss: 0.1015\n",
            "Epoch 9, Loss: 0.0708\n"
          ]
        }
      ]
    },
    {
      "cell_type": "code",
      "source": [
        "def generate_text(model, start_seq, length=50):\n",
        "    model.eval()\n",
        "    input_seq = torch.tensor([char2idx[c] for c in start_seq], dtype=torch.long).unsqueeze(0)\n",
        "    h = None\n",
        "    generated = start_seq\n",
        "    for _ in range(length):\n",
        "        out, h = model(input_seq, h)\n",
        "        next_idx = torch.argmax(out, dim=1).item()\n",
        "        next_char = idx2char[next_idx]\n",
        "        generated += next_char\n",
        "        input_seq = torch.cat([input_seq[:, 1:], torch.tensor([[next_idx]], dtype=torch.long)], dim=1)\n",
        "    return generated\n"
      ],
      "metadata": {
        "id": "3MvJDvCpxCvl"
      },
      "execution_count": 23,
      "outputs": []
    },
    {
      "cell_type": "code",
      "source": [
        "print(\"\\nGenerated text:\")\n",
        "print(generate_text(model, start_seq=\"hello \"))"
      ],
      "metadata": {
        "colab": {
          "base_uri": "https://localhost:8080/"
        },
        "id": "AdkGfFOJxJ4_",
        "outputId": "63a5e10e-4227-4d9c-a49e-9afc8b7e0d34"
      },
      "execution_count": 24,
      "outputs": [
        {
          "output_type": "stream",
          "name": "stdout",
          "text": [
            "\n",
            "Generated text:\n",
            "hello this a simple character level language model langu\n"
          ]
        }
      ]
    }
  ]
}