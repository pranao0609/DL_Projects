{
  "nbformat": 4,
  "nbformat_minor": 0,
  "metadata": {
    "colab": {
      "provenance": [],
      "authorship_tag": "ABX9TyM+6YF8JXnEbf2npHPwLHBB",
      "include_colab_link": true
    },
    "kernelspec": {
      "name": "python3",
      "display_name": "Python 3"
    },
    "language_info": {
      "name": "python"
    }
  },
  "cells": [
    {
      "cell_type": "markdown",
      "metadata": {
        "id": "view-in-github",
        "colab_type": "text"
      },
      "source": [
        "<a href=\"https://colab.research.google.com/github/pranao0609/DL_Projects/blob/main/4_Sentiment_Classifer.ipynb\" target=\"_parent\"><img src=\"https://colab.research.google.com/assets/colab-badge.svg\" alt=\"Open In Colab\"/></a>"
      ]
    },
    {
      "cell_type": "code",
      "execution_count": null,
      "metadata": {
        "id": "hqP8rn_VXXPN"
      },
      "outputs": [],
      "source": [
        "import torch\n",
        "import torch.nn as nn\n",
        "from sklearn.feature_extraction.text import CountVectorizer\n",
        "from sklearn.model_selection import train_test_split"
      ]
    },
    {
      "cell_type": "code",
      "source": [
        "texts = [\n",
        "    \"I loved this movie\", \"This film was fantastic\", \"What a great experience\",\n",
        "    \"I hated this movie\", \"This film was terrible\", \"What a boring experience\"\n",
        "]\n",
        "labels = [1, 1, 1, 0, 0, 0]"
      ],
      "metadata": {
        "id": "Cv8CgIBAXfaA"
      },
      "execution_count": null,
      "outputs": []
    },
    {
      "cell_type": "code",
      "source": [
        "vectorizer = CountVectorizer()\n",
        "X = vectorizer.fit_transform(texts).toarray()\n",
        "Y = torch.tensor(labels).float().unsqueeze(1)\n",
        "\n",
        "X = torch.tensor(X).float()"
      ],
      "metadata": {
        "id": "5Bntjo1ZXffU"
      },
      "execution_count": null,
      "outputs": []
    },
    {
      "cell_type": "code",
      "source": [
        "X_train, X_test, Y_train, Y_test = train_test_split(X, Y, test_size=0.33)"
      ],
      "metadata": {
        "id": "AXtzyPSyXpGd"
      },
      "execution_count": null,
      "outputs": []
    },
    {
      "cell_type": "code",
      "source": [
        "class SentimentBoW(nn.Module):\n",
        "    def __init__(self, input_dim):\n",
        "        super(SentimentBoW, self).__init__()\n",
        "        self.fc = nn.Linear(input_dim, 1)\n",
        "\n",
        "    def forward(self, x):\n",
        "        return torch.sigmoid(self.fc(x))\n",
        "\n",
        "model = SentimentBoW(input_dim=X.shape[1])"
      ],
      "metadata": {
        "id": "hDpnaUf1Xvfr"
      },
      "execution_count": null,
      "outputs": []
    },
    {
      "cell_type": "code",
      "source": [
        "criterion = nn.BCELoss()\n",
        "optimizer = torch.optim.Adam(model.parameters(), lr=0.01)"
      ],
      "metadata": {
        "id": "YYblv0eIX0a1"
      },
      "execution_count": null,
      "outputs": []
    },
    {
      "cell_type": "code",
      "source": [
        "for epoch in range(100):\n",
        "    outputs = model(X_train)\n",
        "    loss = criterion(outputs, Y_train)\n",
        "\n",
        "    optimizer.zero_grad()\n",
        "    loss.backward()\n",
        "    optimizer.step()\n",
        "\n",
        "    if (epoch + 1) % 20 == 0:\n",
        "        print(f\"Epoch {epoch+1}, Loss: {loss.item():.4f}\")"
      ],
      "metadata": {
        "colab": {
          "base_uri": "https://localhost:8080/"
        },
        "id": "CiRF_63PX4aw",
        "outputId": "7908ef3a-f869-4708-bc12-376682857936"
      },
      "execution_count": null,
      "outputs": [
        {
          "output_type": "stream",
          "name": "stdout",
          "text": [
            "Epoch 20, Loss: 0.6118\n",
            "Epoch 40, Loss: 0.5268\n",
            "Epoch 60, Loss: 0.4560\n",
            "Epoch 80, Loss: 0.3963\n",
            "Epoch 100, Loss: 0.3463\n"
          ]
        }
      ]
    },
    {
      "cell_type": "code",
      "source": [
        "with torch.no_grad():\n",
        "    preds = model(X_test).round()\n",
        "    print(\"\\nTest Predictions:\\n\", preds.view(-1).tolist())"
      ],
      "metadata": {
        "colab": {
          "base_uri": "https://localhost:8080/"
        },
        "id": "diGmnxF3X9mG",
        "outputId": "3845ef65-50cd-4fc1-d428-a54716a3530e"
      },
      "execution_count": null,
      "outputs": [
        {
          "output_type": "stream",
          "name": "stdout",
          "text": [
            "\n",
            "Test Predictions:\n",
            " [1.0, 1.0]\n"
          ]
        }
      ]
    }
  ]
}
