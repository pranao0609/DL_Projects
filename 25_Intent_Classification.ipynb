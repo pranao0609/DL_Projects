{
  "nbformat": 4,
  "nbformat_minor": 0,
  "metadata": {
    "colab": {
      "provenance": [],
      "authorship_tag": "ABX9TyMwPrYV7hiOJhiJrhXRMYlQ",
      "include_colab_link": true
    },
    "kernelspec": {
      "name": "python3",
      "display_name": "Python 3"
    },
    "language_info": {
      "name": "python"
    }
  },
  "cells": [
    {
      "cell_type": "markdown",
      "metadata": {
        "id": "view-in-github",
        "colab_type": "text"
      },
      "source": [
        "<a href=\"https://colab.research.google.com/github/pranao0609/DL_Projects/blob/main/25_Intent_Classification.ipynb\" target=\"_parent\"><img src=\"https://colab.research.google.com/assets/colab-badge.svg\" alt=\"Open In Colab\"/></a>"
      ]
    },
    {
      "cell_type": "code",
      "execution_count": 27,
      "metadata": {
        "id": "3MyAVBPTRwJB"
      },
      "outputs": [],
      "source": [
        "import torch\n",
        "import torch.nn as nn\n",
        "import torch.optim as optim\n",
        "from sklearn.feature_extraction.text import CountVectorizer"
      ]
    },
    {
      "cell_type": "code",
      "source": [
        "data = [\n",
        "    (\"hello\", \"greeting\"),\n",
        "    (\"hi\", \"greeting\"),\n",
        "    (\"hey\", \"greeting\"),\n",
        "    (\"bye\", \"goodbye\"),\n",
        "    (\"see you\", \"goodbye\"),\n",
        "    (\"thanks\", \"thanks\"),\n",
        "    (\"thank you\", \"thanks\"),\n",
        "    (\"what can you do\", \"query\"),\n",
        "    (\"how can you help\", \"query\")\n",
        "]\n",
        "\n",
        "texts, labels = zip(*data)\n",
        "label2idx = {label: idx for idx, label in enumerate(set(labels))}\n",
        "idx2label = {idx: label for label, idx in label2idx.items()}\n",
        "y = [label2idx[label] for label in labels]\n",
        "\n",
        "vectorizer = CountVectorizer()\n",
        "X = vectorizer.fit_transform(texts).toarray()\n",
        "\n",
        "X_tensor = torch.tensor(X, dtype=torch.float32)\n",
        "y_tensor = torch.tensor(y, dtype=torch.long)\n"
      ],
      "metadata": {
        "id": "-T4HYKTjXXUV"
      },
      "execution_count": 28,
      "outputs": []
    },
    {
      "cell_type": "code",
      "source": [
        "class IntentModel(nn.Module):\n",
        "    def __init__(self, input_size, num_classes):\n",
        "        super().__init__()\n",
        "        self.fc = nn.Sequential(\n",
        "            nn.Linear(input_size, 32),\n",
        "            nn.ReLU(),\n",
        "            nn.Linear(32, num_classes)\n",
        "        )\n",
        "\n",
        "    def forward(self, x):\n",
        "        return self.fc(x)\n",
        "\n",
        "model = IntentModel(X.shape[1], len(label2idx))\n",
        "loss_fn = nn.CrossEntropyLoss()\n",
        "optimizer = optim.Adam(model.parameters(), lr=0.01)\n"
      ],
      "metadata": {
        "id": "2txt_I5_XXW1"
      },
      "execution_count": 29,
      "outputs": []
    },
    {
      "cell_type": "code",
      "source": [
        "for epoch in range(100):\n",
        "    outputs = model(X_tensor)\n",
        "    loss = loss_fn(outputs, y_tensor)\n",
        "    optimizer.zero_grad()\n",
        "    loss.backward()\n",
        "    optimizer.step()\n",
        "    if (epoch + 1) % 20 == 0:\n",
        "        print(f\"Epoch {epoch+1}, Loss: {loss.item():.4f}\")"
      ],
      "metadata": {
        "colab": {
          "base_uri": "https://localhost:8080/"
        },
        "id": "kAVEG91BXXZN",
        "outputId": "a535acff-51c1-4223-fd65-b2c2362fc21e"
      },
      "execution_count": 30,
      "outputs": [
        {
          "output_type": "stream",
          "name": "stdout",
          "text": [
            "Epoch 20, Loss: 0.4919\n",
            "Epoch 40, Loss: 0.0308\n",
            "Epoch 60, Loss: 0.0050\n",
            "Epoch 80, Loss: 0.0025\n",
            "Epoch 100, Loss: 0.0018\n"
          ]
        }
      ]
    },
    {
      "cell_type": "code",
      "source": [
        "def predict_intent(query):\n",
        "    vec = torch.tensor(vectorizer.transform([query]).toarray(), dtype=torch.float32)\n",
        "    pred = torch.argmax(model(vec))\n",
        "    return idx2label[pred.item()]\n",
        "\n",
        "print(\"Predicted Intent:\", predict_intent(\"hi there\"))\n",
        "print(\"Predicted Intent:\", predict_intent(\"what can you do for me\"))"
      ],
      "metadata": {
        "colab": {
          "base_uri": "https://localhost:8080/"
        },
        "id": "zVkI1z44XXcu",
        "outputId": "b8678c72-c5bd-438b-e3ed-e1196ce54c3a"
      },
      "execution_count": 31,
      "outputs": [
        {
          "output_type": "stream",
          "name": "stdout",
          "text": [
            "Predicted Intent: greeting\n",
            "Predicted Intent: query\n"
          ]
        }
      ]
    }
  ]
}